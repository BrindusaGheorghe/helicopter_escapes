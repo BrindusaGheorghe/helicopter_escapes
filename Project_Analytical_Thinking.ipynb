{
  "nbformat": 4,
  "nbformat_minor": 0,
  "metadata": {
    "colab": {
      "name": "Project - Analytical Thinking.ipynb",
      "provenance": [],
      "authorship_tag": "ABX9TyOffeiXj6uowcLrBbW9s8VR",
      "include_colab_link": true
    },
    "kernelspec": {
      "name": "python3",
      "display_name": "Python 3"
    },
    "language_info": {
      "name": "python"
    }
  },
  "cells": [
    {
      "cell_type": "markdown",
      "metadata": {
        "id": "view-in-github",
        "colab_type": "text"
      },
      "source": [
        "<a href=\"https://colab.research.google.com/github/BrindusaGheorghe/helicopter_escapes/blob/main/Project_Analytical_Thinking.ipynb\" target=\"_parent\"><img src=\"https://colab.research.google.com/assets/colab-badge.svg\" alt=\"Open In Colab\"/></a>"
      ]
    },
    {
      "cell_type": "markdown",
      "source": [
        "# Project - Analytical Thinking\n",
        "\n",
        "---\n",
        "## The question:\n",
        "<br />\n",
        "Is there a shortage of affordable appartments in Berlin as a whole, or is the issue concentrated in select neighbourhoods?\n",
        "<br />\n",
        "<br />\n",
        "\n",
        "## The dataset:\n",
        "<br />\n",
        "\n",
        "We have access to data taken from the website [immobilienscout24.de](https://www.immobilienscout24.de/).\n",
        "\n",
        "It is a list of rental appartments in Berlin. One row is for one appartment. The dataset contains 6 columns.\n",
        "\n",
        "* **Region:** the Berlin district, where the flat is located\n",
        "\n",
        "* **Condition:** the condition of the flat\n",
        "\n",
        "* **Rooms:** the number of rooms the flat has\n",
        "\n",
        "* **Rent:** monthly rent for the flat\n",
        "\n",
        "* **Year_Construction:** the year in which the house was build\n",
        "\n",
        "* **Space:** how many square meters does the flat have\n",
        "\n",
        "<br />\n",
        "\n",
        "This dataset is a **snapshot** of the marketplace, and we have no access to the time dimension in it.\n",
        "\n",
        "\n"
      ],
      "metadata": {
        "id": "eKoylN0c5hv0"
      }
    },
    {
      "cell_type": "code",
      "source": [
        "# Imports\n",
        "import pandas as pd\n",
        "import numpy as np\n",
        "import matplotlib.pyplot as plt\n",
        "import seaborn as sns\n",
        "\n",
        "# Get the dataset\n",
        "immoscout_rents = pd.read_csv('https://raw.githubusercontent.com/juliandnl/redi_ss20/master/berlin_rental.csv')\n",
        "immoscout_rents.head()"
      ],
      "metadata": {
        "colab": {
          "base_uri": "https://localhost:8080/",
          "height": 206
        },
        "id": "GV6GvQMC8Qg9",
        "outputId": "ead937d3-b4ae-445b-eec9-3b8347af8b93"
      },
      "execution_count": null,
      "outputs": [
        {
          "output_type": "execute_result",
          "data": {
            "text/plain": [
              "        Region       Condition  Rooms     Rent  Year_Construction   Space\n",
              "0        Mitte  first_time_use    4.0  2659.00               2019  117.20\n",
              "1    Kreuzberg  first_time_use    1.0  1200.00               2020   29.33\n",
              "2     Köpenick       well_kept    2.0   979.00               1997   83.61\n",
              "3  Wilmersdorf       well_kept    4.0  1830.22               1900  171.18\n",
              "4    Kreuzberg  first_time_use    2.0  2272.00               2020   88.27"
            ],
            "text/html": [
              "\n",
              "  <div id=\"df-7ac5720a-de9e-46a6-85cb-e1bb0d1e49d2\">\n",
              "    <div class=\"colab-df-container\">\n",
              "      <div>\n",
              "<style scoped>\n",
              "    .dataframe tbody tr th:only-of-type {\n",
              "        vertical-align: middle;\n",
              "    }\n",
              "\n",
              "    .dataframe tbody tr th {\n",
              "        vertical-align: top;\n",
              "    }\n",
              "\n",
              "    .dataframe thead th {\n",
              "        text-align: right;\n",
              "    }\n",
              "</style>\n",
              "<table border=\"1\" class=\"dataframe\">\n",
              "  <thead>\n",
              "    <tr style=\"text-align: right;\">\n",
              "      <th></th>\n",
              "      <th>Region</th>\n",
              "      <th>Condition</th>\n",
              "      <th>Rooms</th>\n",
              "      <th>Rent</th>\n",
              "      <th>Year_Construction</th>\n",
              "      <th>Space</th>\n",
              "    </tr>\n",
              "  </thead>\n",
              "  <tbody>\n",
              "    <tr>\n",
              "      <th>0</th>\n",
              "      <td>Mitte</td>\n",
              "      <td>first_time_use</td>\n",
              "      <td>4.0</td>\n",
              "      <td>2659.00</td>\n",
              "      <td>2019</td>\n",
              "      <td>117.20</td>\n",
              "    </tr>\n",
              "    <tr>\n",
              "      <th>1</th>\n",
              "      <td>Kreuzberg</td>\n",
              "      <td>first_time_use</td>\n",
              "      <td>1.0</td>\n",
              "      <td>1200.00</td>\n",
              "      <td>2020</td>\n",
              "      <td>29.33</td>\n",
              "    </tr>\n",
              "    <tr>\n",
              "      <th>2</th>\n",
              "      <td>Köpenick</td>\n",
              "      <td>well_kept</td>\n",
              "      <td>2.0</td>\n",
              "      <td>979.00</td>\n",
              "      <td>1997</td>\n",
              "      <td>83.61</td>\n",
              "    </tr>\n",
              "    <tr>\n",
              "      <th>3</th>\n",
              "      <td>Wilmersdorf</td>\n",
              "      <td>well_kept</td>\n",
              "      <td>4.0</td>\n",
              "      <td>1830.22</td>\n",
              "      <td>1900</td>\n",
              "      <td>171.18</td>\n",
              "    </tr>\n",
              "    <tr>\n",
              "      <th>4</th>\n",
              "      <td>Kreuzberg</td>\n",
              "      <td>first_time_use</td>\n",
              "      <td>2.0</td>\n",
              "      <td>2272.00</td>\n",
              "      <td>2020</td>\n",
              "      <td>88.27</td>\n",
              "    </tr>\n",
              "  </tbody>\n",
              "</table>\n",
              "</div>\n",
              "      <button class=\"colab-df-convert\" onclick=\"convertToInteractive('df-7ac5720a-de9e-46a6-85cb-e1bb0d1e49d2')\"\n",
              "              title=\"Convert this dataframe to an interactive table.\"\n",
              "              style=\"display:none;\">\n",
              "        \n",
              "  <svg xmlns=\"http://www.w3.org/2000/svg\" height=\"24px\"viewBox=\"0 0 24 24\"\n",
              "       width=\"24px\">\n",
              "    <path d=\"M0 0h24v24H0V0z\" fill=\"none\"/>\n",
              "    <path d=\"M18.56 5.44l.94 2.06.94-2.06 2.06-.94-2.06-.94-.94-2.06-.94 2.06-2.06.94zm-11 1L8.5 8.5l.94-2.06 2.06-.94-2.06-.94L8.5 2.5l-.94 2.06-2.06.94zm10 10l.94 2.06.94-2.06 2.06-.94-2.06-.94-.94-2.06-.94 2.06-2.06.94z\"/><path d=\"M17.41 7.96l-1.37-1.37c-.4-.4-.92-.59-1.43-.59-.52 0-1.04.2-1.43.59L10.3 9.45l-7.72 7.72c-.78.78-.78 2.05 0 2.83L4 21.41c.39.39.9.59 1.41.59.51 0 1.02-.2 1.41-.59l7.78-7.78 2.81-2.81c.8-.78.8-2.07 0-2.86zM5.41 20L4 18.59l7.72-7.72 1.47 1.35L5.41 20z\"/>\n",
              "  </svg>\n",
              "      </button>\n",
              "      \n",
              "  <style>\n",
              "    .colab-df-container {\n",
              "      display:flex;\n",
              "      flex-wrap:wrap;\n",
              "      gap: 12px;\n",
              "    }\n",
              "\n",
              "    .colab-df-convert {\n",
              "      background-color: #E8F0FE;\n",
              "      border: none;\n",
              "      border-radius: 50%;\n",
              "      cursor: pointer;\n",
              "      display: none;\n",
              "      fill: #1967D2;\n",
              "      height: 32px;\n",
              "      padding: 0 0 0 0;\n",
              "      width: 32px;\n",
              "    }\n",
              "\n",
              "    .colab-df-convert:hover {\n",
              "      background-color: #E2EBFA;\n",
              "      box-shadow: 0px 1px 2px rgba(60, 64, 67, 0.3), 0px 1px 3px 1px rgba(60, 64, 67, 0.15);\n",
              "      fill: #174EA6;\n",
              "    }\n",
              "\n",
              "    [theme=dark] .colab-df-convert {\n",
              "      background-color: #3B4455;\n",
              "      fill: #D2E3FC;\n",
              "    }\n",
              "\n",
              "    [theme=dark] .colab-df-convert:hover {\n",
              "      background-color: #434B5C;\n",
              "      box-shadow: 0px 1px 3px 1px rgba(0, 0, 0, 0.15);\n",
              "      filter: drop-shadow(0px 1px 2px rgba(0, 0, 0, 0.3));\n",
              "      fill: #FFFFFF;\n",
              "    }\n",
              "  </style>\n",
              "\n",
              "      <script>\n",
              "        const buttonEl =\n",
              "          document.querySelector('#df-7ac5720a-de9e-46a6-85cb-e1bb0d1e49d2 button.colab-df-convert');\n",
              "        buttonEl.style.display =\n",
              "          google.colab.kernel.accessAllowed ? 'block' : 'none';\n",
              "\n",
              "        async function convertToInteractive(key) {\n",
              "          const element = document.querySelector('#df-7ac5720a-de9e-46a6-85cb-e1bb0d1e49d2');\n",
              "          const dataTable =\n",
              "            await google.colab.kernel.invokeFunction('convertToInteractive',\n",
              "                                                     [key], {});\n",
              "          if (!dataTable) return;\n",
              "\n",
              "          const docLinkHtml = 'Like what you see? Visit the ' +\n",
              "            '<a target=\"_blank\" href=https://colab.research.google.com/notebooks/data_table.ipynb>data table notebook</a>'\n",
              "            + ' to learn more about interactive tables.';\n",
              "          element.innerHTML = '';\n",
              "          dataTable['output_type'] = 'display_data';\n",
              "          await google.colab.output.renderOutput(dataTable, element);\n",
              "          const docLink = document.createElement('div');\n",
              "          docLink.innerHTML = docLinkHtml;\n",
              "          element.appendChild(docLink);\n",
              "        }\n",
              "      </script>\n",
              "    </div>\n",
              "  </div>\n",
              "  "
            ]
          },
          "metadata": {},
          "execution_count": 2
        }
      ]
    },
    {
      "cell_type": "markdown",
      "source": [
        "## **Is there a shortage of affordable appartments in Berlin as a whole, or is the issue concentrated in select neighbourhoods?**\n",
        "---\n",
        "\n",
        "In order to properly answer this question, we first need to define two terms.\n",
        "<br />\n",
        "<br />\n",
        "a. What does \"**affordable**\" mean?\n",
        "\n",
        "b. What is a \"**shortage**\"?\n",
        "<br />\n",
        "<br />\n",
        "I will now look at these concepts one by one.\n",
        "<br />\n",
        "<br />\n"
      ],
      "metadata": {
        "id": "k3WaLmQj8Z3I"
      }
    },
    {
      "cell_type": "markdown",
      "source": [
        "### Affordability - general definition\n",
        "---\n",
        "The first thing I would consider is what exactly does \"affordable\" mean? If we were somehow required to use only the current dataset, we could conclude that all the rents under the average are affordable. However, I will attempt to find the answer elsewhere as we have no such constraints.\n",
        "<br />\n",
        "<br />\n",
        "First, “[affordable](https://www.dictionary.com/browse/affordable)” simply means “within one’s financial means”. But in the case of accommodation, I take “affordable” to mean “rent that most people would be able to pay, in the limit of a maximum of 30% of their monthly income”. I also think it would be helpful to look at the minimum and average wage in Berlin before I decide on the final affordability value that I will be using.\n",
        "<br />\n",
        "<br />\n",
        "### Average and typical salary\n",
        "---\n",
        "For the purposes of this analysis, I am assuming that anyone with an average income or lower should be able to afford an “affordable” rent. I would have preferred to use a median value, instead of an average, for a more precise analysis, but I was not able to find a comprehensive report on all the incomes in Berlin. It would be really interesting to look at all the incomes in Berlin, and see where most of the incomes actually lie. However, all the reports I could find only looked at a [general “average” salary](https://www.averagesalarysurvey.com/berlin-germany?SalaryType=2) for the city, and then at [specific averages for each type of job](https://www.payscale.com/research/DE/Location=Berlin-Berlin/Salary). For the rest of the analysis I will use the \"[most typical salary](https://www.averagesalarysurvey.com/berlin-germany?SalaryType=2)\" as it seems to be closer to what a median value would be.\n",
        "<br />\n",
        "<br />\n",
        "The most typical yearly salary of 34.020 euros means a monthly salary of 2.835 euros. 30% of that (the maximum percentage available for rent) is about **940 euros**. The working hypothesis is that we should use this value as our “affordable” value. \n",
        "<br />\n",
        "<br />\n",
        "### Low-wage income\n",
        "---\n",
        "But how about the minimum salary? [The minimum wage in Germany in 2022](https://www.destatis.de/EN/Themes/Labour/Earnings/Minimum-Wages/_node.html) is 9,82 euros per hour, which adds up to a monthly salary of 1.621 euros, brut. [Calculating the net salary](https://www.brutto-netto-rechner.info/gehalt/gross_net_calculator_germany.php), it comes down to 1.213,45 euros a month.  For a minimum wage earner, the affordable rent, which should be a maximum of 30% of the net income, comes to around **400 euros**. \n",
        "<br />\n",
        "<br />\n",
        "As far as low-wage jobs in general, I couldn’t find a very recent statistic that could tell me how many people in Berlin are working in such jobs. However, in 2018 there were reportedly [8 million low-wage workers in Germany](https://www.destatis.de/EN/Press/2020/10/PE20_416_623.html;jsessionid=E8071CDC6A5DC61EB19126C019D707D7.live732) (that includes minimum wage and a little higher, until the median value of 16,59 euros per hour). This accounts for 21% of all employees. \n",
        "<br />\n",
        "<br />\n",
        "I am taking this most recent proportion and applying it to Berlin as well, and as such, I am assuming that about 20% of the employees in Berlin have low-wage jobs. According to a more recent report,[ Berlin had about 2 million employees in 2021](https://www.businesslocationcenter.de/en/labor-market/workforce-potential/employed#:~:text=In%202021%2C%20the%20number%20of,increase%20of%20all%20federal%20states.). That means approximately **400,000 employees in Berlin have low-wage jobs**. That doesn’t mean, however, that Berlin needs exactly 400,000 affordable apartments. After all, some low-wage employees might share accommodation, as part of a couple, or in a WG. Also, this number doesn’t take into account the [unemployed](https://www.berlin.de/en/news/7478082-5559700-umeployment-rate-falls-8-percent.en.html) (176,717 people in April 2022) and the pensioners who also need affordable accommodation. I do not have the exact number of pensioners in Berlin, we only seem to know that about [20% of them are at risk of poverty](https://www.dw.com/en/rising-poverty-among-germanys-elderly/a-51942120) and need to keep working to make ends meet. \n",
        "<br />\n",
        "<br />\n",
        "### How many people in Berlin need cheap accommodation?\n",
        "---\n",
        "I think an estimate of the total number of people needing cheap accommodation could be useful to perceive the magnitude of the problem. I will round up the unemployed to 200,000 and add another 200,000 to account for pensioners and any other at-risk groups that I didn’t already add. Adding the low-wage earners, that would make a very rough estimation of about **800,000 people in Berlin who could need cheap accommodation**. Of course, some of them are already helped by programs such as WBS, Wohngeld, and senior accommodation. And it is reasonable to assume that if they already found affordable accommodation, that unit will not be on the market for quite some time, possibly a few years. This, in turn, will affect the availability of affordable rents on the market. \n",
        "<br />\n",
        "<br />\n",
        "Seeing the complexity of situations that would require cheap accommodation and the sheer number of people that could use it, I don’t think it’s sensible to continue assuming that I should base the “affordable” value on the most typical income. Instead, I will use 3 affordability indicators.\n",
        "<br />\n",
        "<br />\n",
        "### Affordability indicators\n",
        "---\n",
        "First, **affordable_low will be 400 euros**, to account for the minimum wage earners. Second, **affordable_high will be 940 euros**, which should be an affordable rent for the most typical Berlin earner. Third, **affordable_average is 670 euros**, the average of the other two affordability values, and it should serve as an affordability guide for anyone with an income more than the minimum, but less than the typical. As I am assuming that most people are in this last category, **I will use the value of *670 euros* as the general value for “affordable”**, with the understanding that the people who earn too little to afford it will have to use programs like WBS and Wohngeld to help pay for their accommodation.\n",
        "<br />\n",
        "<br />\n",
        "As the [average square meter per person](https://www.destatis.de/EN/Themes/Society-Environment/Housing/_node.html) was around 47 m2 in 2021, let's use the value of ***14.25 euros/sqm*** as the affordability threshold for our data. Please note that this is already much higher than what was considered the [\"average\" price in 2018](https://www.destatis.de/EN/Themes/Society-Environment/Housing/Tables/ratio-main-tenant-households.htm).\n",
        "<br />\n",
        "<br />\n",
        "Keeping in mind that this is not an exact representation of reality at this point in Berlin, I would like to stress the fact that the conclusions of this analysis are meant to be only a guide and not a strict and exact measurement.\n",
        "<br />\n",
        "<br />"
      ],
      "metadata": {
        "id": "tZ3usyrP8b3g"
      }
    },
    {
      "cell_type": "markdown",
      "source": [
        "## What is a \"shortage\"?\n",
        "---\n",
        "When talking about the housing market, I take “shortage” to mean “the supply is insufficient to satisfy the demand”.\n",
        "<br />\n",
        "<br />\n",
        "To find out whether there is a real shortage of affordable rents in Berlin, we would need much more data than we already have: an exact report on demand and the offers available, together with their evolution through time. However, our dataset contains information from only one of the many websites that offer accommodation ads, and we cannot assume that this offers a complete view of either supply or demand.\n",
        "<br />\n",
        "<br />\n",
        "Let’s try to answer the “shortage” question by taking into account only the current dataset. **We will assume that a shortage of affordable rents is taking place if the first quartile of the square meter price distribution lies above our affordability threshold.**\n",
        "<br />\n",
        "<br />\n"
      ],
      "metadata": {
        "id": "lgfSnyd-EFNV"
      }
    },
    {
      "cell_type": "markdown",
      "source": [
        "## Important concepts:\n",
        "---\n",
        "<br />\n",
        "<br />\n",
        "\n",
        "*   affordable -- 30% of net income\n",
        "*   average square meter per person -- 47 sqm\n",
        "*   affordable rent -- maximum 670 euros/month\n",
        "*   affordable square meter price -- maximum 14.25 euros/sqm\n",
        "*   shortage exists if -- first quartile price > affordable price\n",
        "\n",
        "<br />\n",
        "<br />"
      ],
      "metadata": {
        "id": "iW_IjLlHEaM8"
      }
    },
    {
      "cell_type": "code",
      "source": [
        "# Let's compute a price per square meter:\n",
        "immoscout_rents[\"square_meter_price\"] = immoscout_rents[\"Rent\"] / immoscout_rents[\"Space\"]"
      ],
      "metadata": {
        "id": "1km8mPBNEn6u"
      },
      "execution_count": null,
      "outputs": []
    },
    {
      "cell_type": "code",
      "source": [
        "# Let's see how the data looks like:\n",
        "sns.displot(immoscout_rents[\"square_meter_price\"])\n",
        "\n",
        "# There seem to be appartments available below our affordable threshold, but there is no way to tell if there is a shortage."
      ],
      "metadata": {
        "colab": {
          "base_uri": "https://localhost:8080/",
          "height": 386
        },
        "id": "epTwsKrSEqd9",
        "outputId": "8a59f88f-8c0e-4f10-aec8-329973bc8956"
      },
      "execution_count": null,
      "outputs": [
        {
          "output_type": "execute_result",
          "data": {
            "text/plain": [
              "<seaborn.axisgrid.FacetGrid at 0x7f888e111590>"
            ]
          },
          "metadata": {},
          "execution_count": 5
        },
        {
          "output_type": "display_data",
          "data": {
            "text/plain": [
              "<Figure size 360x360 with 1 Axes>"
            ],
            "image/png": "[encoded data removed]"
          },
          "metadata": {
            "needs_background": "light"
          }
        }
      ]
    },
    {
      "cell_type": "code",
      "source": [
        "# How are the values distributed?\n",
        "sns.boxplot(immoscout_rents[\"square_meter_price\"])\n",
        "\n",
        "# We need to add the threshold value."
      ],
      "metadata": {
        "colab": {
          "base_uri": "https://localhost:8080/",
          "height": 352
        },
        "id": "VcRkK1apEso2",
        "outputId": "6793ed42-807c-4ee6-e58d-fc1b267fe451"
      },
      "execution_count": null,
      "outputs": [
        {
          "output_type": "stream",
          "name": "stderr",
          "text": [
            "/usr/local/lib/python3.7/dist-packages/seaborn/_decorators.py:43: FutureWarning: Pass the following variable as a keyword arg: x. From version 0.12, the only valid positional argument will be `data`, and passing other arguments without an explicit keyword will result in an error or misinterpretation.\n",
            "  FutureWarning\n"
          ]
        },
        {
          "output_type": "execute_result",
          "data": {
            "text/plain": [
              "<matplotlib.axes._subplots.AxesSubplot at 0x7f888b7fd150>"
            ]
          },
          "metadata": {},
          "execution_count": 6
        },
        {
          "output_type": "display_data",
          "data": {
            "text/plain": [
              "<Figure size 432x288 with 1 Axes>"
            ],
            "image/png": "[encoded data removed]"
          },
          "metadata": {
            "needs_background": "light"
          }
        }
      ]
    },
    {
      "cell_type": "code",
      "source": [
        "# Let's add the threshold to this graph:\n",
        "g = sns.boxplot(immoscout_rents[\"square_meter_price\"])\n",
        "g.axvline(14.25, c=\"red\")\n",
        "\n",
        "# we can see from the red line that the first quartile lies above our affordability threshold."
      ],
      "metadata": {
        "colab": {
          "base_uri": "https://localhost:8080/",
          "height": 352
        },
        "id": "t6KtLbpVEusc",
        "outputId": "c305d76d-330d-42cf-830a-28668a693be7"
      },
      "execution_count": null,
      "outputs": [
        {
          "output_type": "stream",
          "name": "stderr",
          "text": [
            "/usr/local/lib/python3.7/dist-packages/seaborn/_decorators.py:43: FutureWarning: Pass the following variable as a keyword arg: x. From version 0.12, the only valid positional argument will be `data`, and passing other arguments without an explicit keyword will result in an error or misinterpretation.\n",
            "  FutureWarning\n"
          ]
        },
        {
          "output_type": "execute_result",
          "data": {
            "text/plain": [
              "<matplotlib.lines.Line2D at 0x7f888b2ce8d0>"
            ]
          },
          "metadata": {},
          "execution_count": 7
        },
        {
          "output_type": "display_data",
          "data": {
            "text/plain": [
              "<Figure size 432x288 with 1 Axes>"
            ],
            "image/png": "[encoded data removed]"
          },
          "metadata": {
            "needs_background": "light"
          }
        }
      ]
    },
    {
      "cell_type": "code",
      "source": [
        "# Let's confirm this by using a quantile function:\n",
        "immoscout_rents[\"square_meter_price\"].quantile(0.25)\n",
        "\n",
        "# Boolean test:\n",
        "do_we_have_shortage = immoscout_rents[\"square_meter_price\"].quantile(0.25) > 14.25\n",
        "print(f\"do_we_have_shortage: {do_we_have_shortage}\")"
      ],
      "metadata": {
        "colab": {
          "base_uri": "https://localhost:8080/"
        },
        "id": "FEWrKMzREwhN",
        "outputId": "9b27e4b3-a77c-4d4b-f662-dce49a0bfe66"
      },
      "execution_count": null,
      "outputs": [
        {
          "output_type": "stream",
          "name": "stdout",
          "text": [
            "do_we_have_shortage: True\n"
          ]
        }
      ]
    },
    {
      "cell_type": "code",
      "source": [
        "# Let's see if this happens in all of Berlin's districts.\n",
        "\n",
        "# Let's create a grid of subplots.\n",
        "\n",
        "fig, axs = plt.subplots(5, 2)\n",
        "fig.tight_layout()\n",
        "\n",
        "for i, region in enumerate(immoscout_rents[\"Region\"].unique()):\n",
        "  axs[i // 2 , i % 2].set_title(f\"{region} n = {len(immoscout_rents[immoscout_rents['Region'] == region])}\")\n",
        "  axs[i // 2 , i % 2].hist(immoscout_rents[immoscout_rents[\"Region\"] == region][\"square_meter_price\"], bins=20)\n",
        "  axs[i // 2 , i % 2].axvline(14.25, color=\"red\")\n",
        "  axs[i // 2 , i % 2].set_xlim([0, 60])\n",
        "\n",
        "# These graphs show that there are clearly some big differences across different \n",
        "# neighbourhoods. E.g. Charlottenburg or Mitte appear to be leaning to higher rents \n",
        "# while Wedding seems to be on the less expensive side."
      ],
      "metadata": {
        "colab": {
          "base_uri": "https://localhost:8080/",
          "height": 309
        },
        "id": "2QdU_QJhEyHL",
        "outputId": "6d3838f5-996e-4a20-9609-3b38f48bad9d"
      },
      "execution_count": null,
      "outputs": [
        {
          "output_type": "display_data",
          "data": {
            "text/plain": [
              "<Figure size 432x288 with 10 Axes>"
            ],
            "image/png": "[encoded data removed]"
          },
          "metadata": {
            "needs_background": "light"
          }
        }
      ]
    },
    {
      "cell_type": "code",
      "source": [
        "# Let's check the value distribution:\n",
        "fig, axs = plt.subplots(5, 2)\n",
        "fig.tight_layout()\n",
        "\n",
        "for i, region in enumerate(immoscout_rents[\"Region\"].unique()):\n",
        "  axs[i // 2 , i % 2].set_title(f\"{region} n = {len(immoscout_rents[immoscout_rents['Region'] == region])}\")\n",
        "  axs[i // 2 , i % 2].boxplot(immoscout_rents[immoscout_rents[\"Region\"] == region][\"square_meter_price\"], vert=False)\n",
        "  axs[i // 2 , i % 2].axvline(14.25, color=\"red\")\n",
        "\n",
        "# A few regions have a quartile price that lies below our threshold. These are Köpenick, \n",
        "# Wedding, Friedrichsfelde and Neukölln. These also have fewer appartments\n",
        "# available in absolute numbers. Also, the affordability threshold in these four neighborhoods \n",
        "# always lies in the lower half of the first quartile. "
      ],
      "metadata": {
        "colab": {
          "base_uri": "https://localhost:8080/",
          "height": 309
        },
        "id": "Sw7jIuzcEz64",
        "outputId": "d2da517d-4a69-466a-f85b-b78c41fc4f82"
      },
      "execution_count": null,
      "outputs": [
        {
          "output_type": "display_data",
          "data": {
            "text/plain": [
              "<Figure size 432x288 with 10 Axes>"
            ],
            "image/png": "[encoded data removed]"
          },
          "metadata": {
            "needs_background": "light"
          }
        }
      ]
    },
    {
      "cell_type": "markdown",
      "source": [
        "## Conclusion\n",
        "---\n",
        "Based on our assumptions and the data available to us, we can conclude the following:\n",
        "\n",
        "Looking at Berlin as a whole, there seems to be a shortage of affordable rents.\n",
        "\n",
        "Looking at each neighborhood in part, some neighborhoods have a more affordable rent distribution. However, only four out of ten analyzed neighborhoods show this slight tendency, and they do not make up for the overall shortage observed in Berlin."
      ],
      "metadata": {
        "id": "4IeEF_tbFB87"
      }
    }
  ]
}